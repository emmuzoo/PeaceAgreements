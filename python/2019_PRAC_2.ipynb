{
 "cells": [
  {
   "cell_type": "code",
   "execution_count": 1,
   "metadata": {},
   "outputs": [],
   "source": [
    "import numpy as np\n",
    "import pandas as pd\n",
    "import seaborn as sns\n",
    "import matplotlib.pyplot as plt\n"
   ]
  },
  {
   "cell_type": "markdown",
   "metadata": {},
   "source": [
    "## Importamos Ficheros"
   ]
  },
  {
   "cell_type": "code",
   "execution_count": 2,
   "metadata": {},
   "outputs": [],
   "source": [
    "encoding='utf-8'\n",
    "encoding = \"cp1252\"\n",
    "encoding = \"ISO-8859-1\""
   ]
  },
  {
   "cell_type": "code",
   "execution_count": 3,
   "metadata": {},
   "outputs": [],
   "source": [
    "data_df = pd.read_csv(\"./dataset/pax_data_1789_agreements_16-11-19.csv\", sep=\",\")"
   ]
  },
  {
   "cell_type": "code",
   "execution_count": 4,
   "metadata": {},
   "outputs": [
    {
     "name": "stdout",
     "output_type": "stream",
     "text": [
      "<class 'pandas.core.frame.DataFrame'>\n",
      "RangeIndex: 1789 entries, 0 to 1788\n",
      "Columns: 266 entries, Con to ImSrc\n",
      "dtypes: float64(6), int64(244), object(16)\n",
      "memory usage: 3.6+ MB\n"
     ]
    }
   ],
   "source": [
    "data_df.info()"
   ]
  },
  {
   "cell_type": "code",
   "execution_count": 5,
   "metadata": {},
   "outputs": [
    {
     "name": "stdout",
     "output_type": "stream",
     "text": [
      "El dataset tiene 7 valores nulos.\n",
      "El dataset tiene 7 missing values.\n",
      "El dataset tiene 7 valores nulos.\n",
      "El dataset tiene 7 missing values.\n",
      "El dataset tiene 29 valores nulos.\n",
      "El dataset tiene 29 missing values.\n",
      "El dataset tiene 15 valores nulos.\n",
      "El dataset tiene 15 missing values.\n",
      "El dataset tiene 869 valores nulos.\n",
      "El dataset tiene 869 missing values.\n",
      "El dataset tiene 852 valores nulos.\n",
      "El dataset tiene 852 missing values.\n",
      "El dataset tiene 44 valores nulos.\n",
      "El dataset tiene 44 missing values.\n",
      "El dataset tiene 1557 valores nulos.\n",
      "El dataset tiene 1557 missing values.\n",
      "El dataset tiene 20 valores nulos.\n",
      "El dataset tiene 20 missing values.\n",
      "El dataset tiene 1557 valores nulos.\n",
      "El dataset tiene 1557 missing values.\n",
      "El dataset tiene 146 valores nulos.\n",
      "El dataset tiene 146 missing values.\n",
      "El dataset tiene 1492 valores nulos.\n",
      "El dataset tiene 1492 missing values.\n",
      "El dataset tiene 1756 valores nulos.\n",
      "El dataset tiene 1756 missing values.\n",
      "El dataset tiene 678 valores nulos.\n",
      "El dataset tiene 678 missing values.\n",
      "['PP', 'PPName', 'StageSub', 'Part', 'ThrdPart', 'OthAgr', 'Loc1ISO', 'Loc2ISO', 'Loc1GWNO', 'Loc2GWNO', 'UcdpCon', 'UcdpAgr', 'PamAgr', 'CowWar']\n",
      "14\n",
      "['PP', 'PPName', 'StageSub', 'Part', 'ThrdPart', 'OthAgr', 'Loc1ISO', 'Loc2ISO', 'Loc1GWNO', 'Loc2GWNO', 'UcdpCon', 'UcdpAgr', 'PamAgr', 'CowWar']\n",
      "14\n"
     ]
    }
   ],
   "source": [
    "l1 = []\n",
    "l2 = []\n",
    "for col in data_df.columns:\n",
    "    sum1 = data_df[col].isnull().values.sum()\n",
    "    if sum1 > 0:\n",
    "        l1.append(col)\n",
    "        # Comprobamos valores nulos\n",
    "        print('El dataset tiene %s valores nulos.' % data_df[col].isnull().values.sum())\n",
    "    sum2 = data_df[col].isna().values.sum()\n",
    "    if sum2 > 0:\n",
    "        l2.append(col)\n",
    "        # Comprobamos missing values\n",
    "        print('El dataset tiene %s missing values.' % data_df[col].isna().values.sum())\n",
    "\n",
    "print(l1)\n",
    "print(len(l1))\n",
    "print(l2)\n",
    "print(len(l2))"
   ]
  },
  {
   "cell_type": "code",
   "execution_count": 6,
   "metadata": {},
   "outputs": [
    {
     "name": "stdout",
     "output_type": "stream",
     "text": [
      "['Reg', 'Contp', 'Status', 'Agtp', 'Stage', 'StageSub', 'Loc1ISO', 'Loc2ISO', 'Con', 'Agt', 'PPName', 'Part', 'ThrdPart', 'OthAgr', 'Dat', 'PP', 'AgtId', 'Lgt', 'N_characters', 'UcdpCon', 'UcdpAgr', 'PamAgr', 'CowWar', 'Loc1GWNO', 'Loc2GWNO']\n",
      "STRING CATEGORY 8\n",
      "NUMBER CATEGORY 241\n",
      "STRING 6\n",
      "DATE 1\n",
      "NUMBER 10\n"
     ]
    }
   ],
   "source": [
    "str_cat_typ = ['Reg','Contp', 'Status', 'Agtp', 'Stage', 'StageSub', 'Loc1ISO', 'Loc2ISO']\n",
    "num_cat_typ = []\n",
    "str_typ = ['Con', 'Agt', 'PPName', 'Part', 'ThrdPart', 'OthAgr']\n",
    "dat_typ =  ['Dat']\n",
    "num_typ =  ['PP', 'AgtId', 'Lgt', 'N_characters', 'UcdpCon', 'UcdpAgr', 'PamAgr', 'CowWar', 'Loc1GWNO', 'Loc2GWNO']\n",
    "\n",
    "all_type = []\n",
    "all_type.extend(str_cat_typ)\n",
    "all_type.extend(str_typ)\n",
    "all_type.extend(dat_typ)\n",
    "all_type.extend(num_typ)\n",
    "print(all_type)\n",
    "\n",
    "\n",
    "for name in data_df.columns:\n",
    "    if name not in all_type:\n",
    "        num_cat_typ.append(name)\n",
    "\n",
    "#print(num_cat_typ)\n",
    "\n",
    "print('STRING CATEGORY', len(str_cat_typ))\n",
    "print('NUMBER CATEGORY', len(num_cat_typ))\n",
    "print('STRING', len(str_typ))\n",
    "print('DATE', len(dat_typ))\n",
    "print('NUMBER', len(num_typ))"
   ]
  },
  {
   "cell_type": "code",
   "execution_count": 7,
   "metadata": {},
   "outputs": [
    {
     "name": "stdout",
     "output_type": "stream",
     "text": [
      "Reg ['Europe and Eurasia' 'Cross-regional' 'Middle East and North Africa'\n",
      " 'Africa (excl MENA)' 'Asia and Pacific' 'Americas']\n",
      "Contp ['Government' 'Territory' 'Government/territory' 'Inter-group' 'Other']\n",
      "Status ['Multiparty signed/agreed' 'Unilateral document' 'Status unclear'\n",
      " 'Agreement with subsequent status']\n",
      "Agtp ['Intra' 'InterIntra' 'Inter' 'IntraLocal']\n",
      "Stage ['SubPar' 'Imp' 'Pre' 'SubComp' 'Cea' 'Ren' 'Oth']\n",
      "StageSub ['MultIss' 'ExtSub' 'Prin' 'PreMix' 'ImpMod' 'Proc' 'Iss' 'ImpOth' nan\n",
      " 'FrAg' 'FrparOth' 'Ceas' 'Rel' 'Repre' 'Conf' 'PreOth' 'Reimp' 'ExtPar'\n",
      " 'FrCons' 'CeaMix' 'Resub' 'Reoth']\n",
      "Loc1ISO ['AFG' 'DZA' 'AGO' nan 'ARG' 'AZE' 'BHR' 'BGD' 'BIH' 'PNG' 'BDI' 'KHM'\n",
      " 'CMR' 'CAF' 'SDN' 'TCD' 'CHN' 'PRK' 'COL' 'COM' 'NIC' 'CIV' 'HRV' 'COD'\n",
      " 'DJI' 'IDN' 'ECU' 'SLV' 'ERI' 'SOM' 'ETH' 'KEN' 'GAB' 'GEO' 'GTM' 'GIN'\n",
      " 'GNB' 'HTI' 'HND' 'IND' 'IRQ' 'GBR' 'ISR' 'LBN' 'SYR' 'LSO' 'LBR' 'LBY'\n",
      " 'MKD' 'MDG' 'MLI' 'MEX' 'MDA' 'MAR' 'MOZ' 'MMR' 'NAM' 'NPL' 'NER' 'NGA'\n",
      " 'KOR' 'PAK' 'PHL' 'COG' 'RUS' 'RWA' 'YEM' 'SEN' 'SLE' 'SVN' 'SLB' 'ZAF'\n",
      " 'SSD' 'ESP' 'LKA' 'TJK' 'THA' 'TGO' 'TUN' 'UGA' 'UKR' 'ZWE']\n",
      "Loc2ISO [nan 'PAK' 'GBR' 'ARM' 'NGA' 'LBY' 'SDN' 'IND' 'KOR' 'RUS' 'VEN' 'SLV'\n",
      " 'RWA' 'ERI' 'PER' 'ETH' 'SOM' 'PRT' 'KWT' 'USA' 'IRL' 'JOR' 'LBN' 'SRB'\n",
      " 'SYR' 'GRC' 'ZAF' 'PRK' 'UGA' 'SAU']\n"
     ]
    }
   ],
   "source": [
    "\n",
    "for name in str_cat_typ:\n",
    "    print(name, data_df[name].unique())"
   ]
  },
  {
   "cell_type": "code",
   "execution_count": 8,
   "metadata": {},
   "outputs": [
    {
     "name": "stdout",
     "output_type": "stream",
     "text": [
      "error GAgeOth 1 [0]\n",
      "error GMigOth 1 [0]\n",
      "error GOthOth 1 [0]\n",
      "error GeLgbti 1 [0]\n",
      "error GeLgbtiPos 1 [0]\n",
      "error GeLgbtiNeg 1 [0]\n",
      "error HrNiOth 1 [0]\n",
      "error ImSrc 1 [1]\n",
      "191 ['GChRhet', 'GChAntid', 'GChSubs', 'GChOth', 'GDisRhet', 'GDisAntid', 'GDisSubs', 'GDisOth', 'GAgeRhet', 'GAgeAntid', 'GAgeSubs', 'GAgeOth', 'GMigRhet', 'GMigAntid', 'GMigSubs', 'GMigOth', 'GRaRhet', 'GRaAntid', 'GRaSubs', 'GRaOth', 'GReRhet', 'GReAntid', 'GReSubs', 'GReOth', 'GIndRhet', 'GIndAntid', 'GIndSubs', 'GIndOth', 'GOthRhet', 'GOthAntid', 'GOthSubs', 'GOthOth', 'GRefRhet', 'GRefSubs', 'GRefOth', 'GSocRhet', 'GSocAntid', 'GSocSubs', 'GSocOth', 'GeWom', 'GeMe', 'GeMeNu', 'GeMeOth', 'GeSo', 'GeLgbti', 'GeLgbtiPos', 'GeLgbtiNeg', 'GeFa', 'StDef', 'StGen', 'StCon', 'StSd', 'StRef', 'StSym', 'StInd', 'StUni', 'StBor', 'StXbor', 'PolGen', 'PolNewInd', 'PolNewTemp', 'PolParTrans', 'PolParOth', 'Civso', 'Tral', 'PpsSt', 'PpsSub', 'PpsEx', 'PpsOro', 'PpsOthPr', 'PpsVet', 'PpsAut', 'PpsInt', 'PpsOth', 'TpsSub', 'TpsLoc', 'TpsAut', 'TpsOth', 'EpsRes', 'EpsFis', 'EpsOth', 'MpsMe', 'MpsJt', 'MpsPro', 'MpsOth', 'HrGen', 'ProtCiv', 'ProtGrp', 'ProtLgl', 'ProtOth', 'HrfSp', 'HrfBor', 'HrfTinc', 'HrfOth', 'HrCp', 'CprLife', 'CprTort', 'CprEq', 'CprSlav', 'CprLib', 'CprDet', 'CprFmov', 'CprFspe', 'CprFass', 'CprTria', 'CprPriv', 'CprVote', 'CprReli', 'CprOth', 'HrSec', 'SerProp', 'SerWork', 'SerHeal', 'SerEdu', 'SerStdl', 'SerShel', 'SerSs', 'SerCult', 'SerOth', 'HrNiMe', 'HrNiNe', 'HrNiOth', 'HrIiMon', 'HrIiBod', 'HrIiOth', 'HrMob', 'HrDet', 'MedGov', 'MedSubs', 'MedLog', 'MedOth', 'CitGen', 'CitRights', 'CitDef', 'CitOth', 'JusCr', 'JusCrSp', 'JusCrSys', 'JusCrPow', 'JusEm', 'JusJu', 'JusPri', 'JusTra', 'DevSoc', 'DevHum', 'DevInfra', 'NEC', 'NatRes', 'IntFu', 'TaxPo', 'TaxRef', 'TaxOth', 'Ban', 'CenBan', 'BanPers', 'BanInt', 'BanXb', 'LaRef', 'LaRefMan', 'LaRefRet', 'LaRefOth', 'LaNom', 'LaCH', 'LaCHTa', 'LaCHIt', 'LaCHPro', 'LaCHOth', 'LaEn', 'Wat', 'SsrGua', 'CeProv', 'CeGen', 'DdrDemil', 'DdrProg', 'SsrPsf', 'SsrFf', 'Terr', 'TjAmPro', 'TjSan', 'TjPower', 'TjAmBan', 'TjJaNc', 'TjJaIc', 'TjRSym', 'TjRMa', 'ImUN', 'ImOth', 'ImRef', 'ImPK', 'ImE', 'ImSrc']\n",
      "50 ['GCh', 'GDis', 'GAge', 'GMig', 'GRa', 'GRe', 'GInd', 'GOth', 'GRef', 'GSoc', 'Pol', 'ConRen', 'Cons', 'Ele', 'ElecComm', 'PolPar', 'Pubad', 'Polps', 'Terps', 'Eps', 'Mps', 'EqGen', 'HrDem', 'Prot', 'HrFra', 'HrNi', 'HrIi', 'Med', 'HrCit', 'Dev', 'Bus', 'Tax', 'Ce', 'SsrPol', 'SsrArm', 'SsrDdr', 'SsrInt', 'Cor', 'SsrCrOcr', 'SsrDrugs', 'TjGen', 'TjAm', 'TjCou', 'TjMech', 'TjPrire', 'TjVet', 'TjVic', 'TjMis', 'TjRep', 'TjNR']\n"
     ]
    }
   ],
   "source": [
    "bin_cat = []\n",
    "four_cat = []\n",
    "for name in num_cat_typ:\n",
    "    values = data_df[name].unique()\n",
    "    if len(values) == 2:\n",
    "        bin_cat.append(name)\n",
    "        #print(name, data_df[name].unique())\n",
    "    elif len(values) == 4:\n",
    "        four_cat.append(name)\n",
    "        #print(name, data_df[name].unique())\n",
    "    else:\n",
    "        bin_cat.append(name)\n",
    "        print('error', name, len(values), values)\n",
    "\n",
    "print(len(bin_cat), bin_cat)\n",
    "print(len(four_cat), four_cat)\n",
    "\n",
    "#['GChRhet', 'GChAntid', 'GChSubs', 'GChOth', 'GDisRhet', 'GDisAntid', 'GDisSubs', 'GDisOth', 'GAgeRhet', 'GAgeAntid', 'GAgeSubs', 'GAgeOth', 'GMigRhet', 'GMigAntid', 'GMigSubs', 'GMigOth', 'GRaRhet', 'GRaAntid', 'GRaSubs', 'GRaOth', 'GReRhet', 'GReAntid', 'GReSubs', 'GReOth', 'GIndRhet', 'GIndAntid', 'GIndSubs', 'GIndOth', 'GOthRhet', 'GOthAntid', 'GOthSubs', 'GOthOth', 'GRefRhet', 'GRefSubs', 'GRefOth', 'GSocRhet', 'GSocAntid', 'GSocSubs', 'GSocOth', 'GeWom', 'GeMe', 'GeMeNu', 'GeMeOth', 'GeSo', 'GeLgbti', 'GeLgbtiPos', 'GeLgbtiNeg', 'GeFa', 'StDef', 'StGen', 'StCon', 'StSd', 'StRef', 'StSym', 'StInd', 'StUni', 'StBor', 'StXbor', 'PolGen', 'PolNewInd', 'PolNewTemp', 'PolParTrans', 'PolParOth', 'Civso', 'Tral', 'PpsSt', 'PpsSub', 'PpsEx', 'PpsOro', 'PpsOthPr', 'PpsVet', 'PpsAut', 'PpsInt', 'PpsOth', 'TpsSub', 'TpsLoc', 'TpsAut', 'TpsOth', 'EpsRes', 'EpsFis', 'EpsOth', 'MpsMe', 'MpsJt', 'MpsPro', 'MpsOth', 'HrGen', 'ProtCiv', 'ProtGrp', 'ProtLgl', 'ProtOth', 'HrfSp', 'HrfBor', 'HrfTinc', 'HrfOth', 'HrCp', 'CprLife', 'CprTort', 'CprEq', 'CprSlav', 'CprLib', 'CprDet', 'CprFmov', 'CprFspe', 'CprFass', 'CprTria', 'CprPriv', 'CprVote', 'CprReli', 'CprOth', 'HrSec', 'SerProp', 'SerWork', 'SerHeal', 'SerEdu', 'SerStdl', 'SerShel', 'SerSs', 'SerCult', 'SerOth', 'HrNiMe', 'HrNiNe', 'HrNiOth', 'HrIiMon', 'HrIiBod', 'HrIiOth', 'HrMob', 'HrDet', 'MedGov', 'MedSubs', 'MedLog', 'MedOth', 'CitGen', 'CitRights', 'CitDef', 'CitOth', 'JusCr', 'JusCrSp', 'JusCrSys', 'JusCrPow', 'JusEm', 'JusJu', 'JusPri', 'JusTra', 'DevSoc', 'DevHum', 'DevInfra', 'NEC', 'NatRes', 'IntFu', 'TaxPo', 'TaxRef', 'TaxOth', 'Ban', 'CenBan', 'BanPers', 'BanInt', 'BanXb', 'LaRef', 'LaRefMan', 'LaRefRet', 'LaRefOth', 'LaNom', 'LaCH', 'LaCHTa', 'LaCHIt', 'LaCHPro', 'LaCHOth', 'LaEn', 'Wat', 'SsrGua', 'CeProv', 'CeGen', 'DdrDemil', 'DdrProg', 'SsrPsf', 'SsrFf', 'Terr', 'TjAmPro', 'TjSan', 'TjPower', 'TjAmBan', 'TjJaNc', 'TjJaIc', 'TjRSym', 'TjRMa', 'ImUN', 'ImOth', 'ImRef', 'ImPK', 'ImE', 'ImSrc']\n",
    "#['GCh', 'GDis', 'GAge', 'GMig', 'GRa', 'GRe', 'GInd', 'GOth', 'GRef', 'GSoc', 'Pol', 'ConRen', 'Cons', 'Ele', 'ElecComm', 'PolPar', 'Pubad', 'Polps', 'Terps', 'Eps', 'Mps', 'EqGen', 'HrDem', 'Prot', 'HrFra', 'HrNi', 'HrIi', 'Med', 'HrCit', 'Dev', 'Bus', 'Tax', 'Ce', 'SsrPol', 'SsrArm', 'SsrDdr', 'SsrInt', 'Cor', 'SsrCrOcr', 'SsrDrugs', 'TjGen', 'TjAm', 'TjCou', 'TjMech', 'TjPrire', 'TjVet', 'TjVic', 'TjMis', 'TjRep', 'TjNR']"
   ]
  },
  {
   "cell_type": "code",
   "execution_count": 9,
   "metadata": {},
   "outputs": [
    {
     "name": "stdout",
     "output_type": "stream",
     "text": [
      "Reg 6 ['Europe and Eurasia' 'Cross-regional' 'Middle East and North Africa'\n",
      " 'Africa (excl MENA)' 'Asia and Pacific' 'Americas']\n",
      "Contp 5 ['Government' 'Territory' 'Government/territory' 'Inter-group' 'Other']\n",
      "Status 4 ['Multiparty signed/agreed' 'Unilateral document' 'Status unclear'\n",
      " 'Agreement with subsequent status']\n",
      "Agtp 4 ['Intra' 'InterIntra' 'Inter' 'IntraLocal']\n",
      "Stage 7 ['SubPar' 'Imp' 'Pre' 'SubComp' 'Cea' 'Ren' 'Oth']\n",
      "StageSub 22 ['MultIss' 'ExtSub' 'Prin' 'PreMix' 'ImpMod' 'Proc' 'Iss' 'ImpOth' nan\n",
      " 'FrAg' 'FrparOth' 'Ceas' 'Rel' 'Repre' 'Conf' 'PreOth' 'Reimp' 'ExtPar'\n",
      " 'FrCons' 'CeaMix' 'Resub' 'Reoth']\n",
      "Loc1ISO 82 ['AFG' 'DZA' 'AGO' nan 'ARG' 'AZE' 'BHR' 'BGD' 'BIH' 'PNG' 'BDI' 'KHM'\n",
      " 'CMR' 'CAF' 'SDN' 'TCD' 'CHN' 'PRK' 'COL' 'COM' 'NIC' 'CIV' 'HRV' 'COD'\n",
      " 'DJI' 'IDN' 'ECU' 'SLV' 'ERI' 'SOM' 'ETH' 'KEN' 'GAB' 'GEO' 'GTM' 'GIN'\n",
      " 'GNB' 'HTI' 'HND' 'IND' 'IRQ' 'GBR' 'ISR' 'LBN' 'SYR' 'LSO' 'LBR' 'LBY'\n",
      " 'MKD' 'MDG' 'MLI' 'MEX' 'MDA' 'MAR' 'MOZ' 'MMR' 'NAM' 'NPL' 'NER' 'NGA'\n",
      " 'KOR' 'PAK' 'PHL' 'COG' 'RUS' 'RWA' 'YEM' 'SEN' 'SLE' 'SVN' 'SLB' 'ZAF'\n",
      " 'SSD' 'ESP' 'LKA' 'TJK' 'THA' 'TGO' 'TUN' 'UGA' 'UKR' 'ZWE']\n",
      "Loc2ISO 30 [nan 'PAK' 'GBR' 'ARM' 'NGA' 'LBY' 'SDN' 'IND' 'KOR' 'RUS' 'VEN' 'SLV'\n",
      " 'RWA' 'ERI' 'PER' 'ETH' 'SOM' 'PRT' 'KWT' 'USA' 'IRL' 'JOR' 'LBN' 'SRB'\n",
      " 'SYR' 'GRC' 'ZAF' 'PRK' 'UGA' 'SAU']\n"
     ]
    }
   ],
   "source": [
    "\n",
    "for name in str_cat_typ:\n",
    "    values = data_df[name].unique()\n",
    "    print(name, len(values), values)"
   ]
  },
  {
   "cell_type": "code",
   "execution_count": 10,
   "metadata": {},
   "outputs": [
    {
     "data": {
      "text/plain": [
       "Con              object\n",
       "Contp            object\n",
       "PP              float64\n",
       "PPName           object\n",
       "Reg              object\n",
       "AgtId             int64\n",
       "Agt              object\n",
       "Dat              object\n",
       "Status           object\n",
       "Lgt               int64\n",
       "N_characters      int64\n",
       "Agtp             object\n",
       "Stage            object\n",
       "StageSub         object\n",
       "Part             object\n",
       "ThrdPart         object\n",
       "OthAgr           object\n",
       "Loc1ISO          object\n",
       "Loc2ISO          object\n",
       "Loc1GWNO        float64\n",
       "Loc2GWNO        float64\n",
       "UcdpCon          object\n",
       "UcdpAgr         float64\n",
       "PamAgr          float64\n",
       "CowWar          float64\n",
       "GCh               int64\n",
       "GChRhet           int64\n",
       "GChAntid          int64\n",
       "GChSubs           int64\n",
       "GChOth            int64\n",
       "                 ...   \n",
       "SsrPsf            int64\n",
       "SsrFf             int64\n",
       "Cor               int64\n",
       "SsrCrOcr          int64\n",
       "SsrDrugs          int64\n",
       "Terr              int64\n",
       "TjGen             int64\n",
       "TjAm              int64\n",
       "TjAmPro           int64\n",
       "TjSan             int64\n",
       "TjPower           int64\n",
       "TjAmBan           int64\n",
       "TjCou             int64\n",
       "TjJaNc            int64\n",
       "TjJaIc            int64\n",
       "TjMech            int64\n",
       "TjPrire           int64\n",
       "TjVet             int64\n",
       "TjVic             int64\n",
       "TjMis             int64\n",
       "TjRep             int64\n",
       "TjRSym            int64\n",
       "TjRMa             int64\n",
       "TjNR              int64\n",
       "ImUN              int64\n",
       "ImOth             int64\n",
       "ImRef             int64\n",
       "ImPK              int64\n",
       "ImE               int64\n",
       "ImSrc             int64\n",
       "Length: 266, dtype: object"
      ]
     },
     "execution_count": 10,
     "metadata": {},
     "output_type": "execute_result"
    }
   ],
   "source": [
    "data_df.dtypes"
   ]
  },
  {
   "cell_type": "code",
   "execution_count": 11,
   "metadata": {},
   "outputs": [
    {
     "name": "stdout",
     "output_type": "stream",
     "text": [
      "El dataset tiene 9029 valores nulos.\n",
      "El dataset tiene 9029 missing values.\n"
     ]
    }
   ],
   "source": [
    "# Comprobamos valores nulos\n",
    "print('El dataset tiene %s valores nulos.' % data_df.isnull().values.sum())\n",
    "\n",
    "# Comprobamos missing values\n",
    "print('El dataset tiene %s missing values.' % data_df.isna().values.sum())"
   ]
  },
  {
   "cell_type": "code",
   "execution_count": 12,
   "metadata": {},
   "outputs": [],
   "source": [
    "def analyse_data(file_path):\n",
    "    data_df = pd.read_csv(file_path, delimiter=\";\", encoding=encoding)\n",
    "    \n",
    "    data_df.info()\n",
    "    \n",
    "    print(data_df.describe())\n",
    "    \n",
    "    # Comprobamos valores nulos\n",
    "    print('El dataset tiene %s valores nulos.' % data_df.isnull().values.sum())\n",
    "\n",
    "    # Comprobamos missing values\n",
    "    print('El dataset tiene %s missing values.' % data_df.isna().values.sum())"
   ]
  },
  {
   "cell_type": "code",
   "execution_count": 13,
   "metadata": {},
   "outputs": [],
   "source": [
    "# Utilidad para visualizar datos.\n",
    "def plot_categorical(data, rotation='horizontal'):\n",
    "   # Mostramos la gráfica de frecuencia\n",
    "    sns.set(style=\"darkgrid\")\n",
    "    sns.barplot(data.index, data.values, alpha=0.9)\n",
    "    plt.title('Frequency Distribution of Carriers')\n",
    "    plt.ylabel('Number of Occurrences', fontsize=12)\n",
    "    plt.xlabel('Carrier', fontsize=12)\n",
    "    plt.xticks(rotation=rotation)\n",
    "    plt.show()\n",
    "    "
   ]
  }
 ],
 "metadata": {
  "kernelspec": {
   "display_name": "Python 3",
   "language": "python",
   "name": "python3"
  },
  "language_info": {
   "codemirror_mode": {
    "name": "ipython",
    "version": 3
   },
   "file_extension": ".py",
   "mimetype": "text/x-python",
   "name": "python",
   "nbconvert_exporter": "python",
   "pygments_lexer": "ipython3",
   "version": "3.7.3"
  }
 },
 "nbformat": 4,
 "nbformat_minor": 2
}
